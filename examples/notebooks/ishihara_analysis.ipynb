{
 "cells": [
  {
   "cell_type": "markdown",
   "metadata": {},
   "source": [
    "# Ishihara Test Analysis using K-means Clustering\n",
    "\n",
    "This notebook demonstrates how to extract numbers from Ishihara color blindness test images using K-means clustering with different color spaces.\n",
    "\n",
    "## Setup\n",
    "\n",
    "First, let's import the necessary packages and add the parent directory to the path so we can import our custom K-means implementation."
   ]
  },
  {
   "cell_type": "code",
   "execution_count": null,
   "metadata": {},
   "source": [
    "import os\n",
    "import sys\n",
    "import numpy as np\n",
    "import cv2\n",
    "import matplotlib.pyplot as plt\n",
    "%matplotlib inline\n",
    "\n",
    "# Add the parent directory to the path\n",
    "module_path = os.path.abspath(os.path.join('..'))\n",
    "if module_path not in sys.path:\n",
    "    sys.path.append(module_path)\n",
    "\n",
    "# Import our custom modules\n",
    "from src.kmeans import KMeansClustering\n",
    "from src.image_processing import preprocess_image, segment_image, extract_number\n",
    "from src.color_spaces import visualize_color_channels, recommend_color_space\n",
    "from src.visualization import plot_results, enhance_number_visibility"
   ]
  },
  {
   "cell_type": "markdown",
   "metadata": {},
   "source": [
    "## Load an Ishihara Test Image\n",
    "\n",
    "Let's load an Ishihara test image. You can replace this with your own image path."
   ]
  },
  {
   "cell_type": "code",
   "execution_count": null,
   "metadata": {},
   "source": [
    "# Set the path to your Ishihara test image\n",
    "image_path = \"../../data/ishihara_74.png\"\n",
    "\n",
    "# Check if the image exists\n",
    "if not os.path.exists(image_path):\n",
    "    print(f\"Error: Image not found at {image_path}\")\n",
    "    print(\"Please update the image_path variable to point to a valid image.\")\n",
    "else:\n",
    "    # Load the image\n",
    "    image = cv2.imread(image_path)\n",
    "    image_rgb = cv2.cvtColor(image, cv2.COLOR_BGR2RGB)\n",
    "    \n",
    "    # Display the image\n",
    "    plt.figure(figsize=(8, 8))\n",
    "    plt.imshow(image_rgb)\n",
    "    plt.title(\"Original Ishihara Test Image\")\n",
    "    plt.axis(\"off\")\n",
    "    plt.show()"
   ]
  },
  {
   "cell_type": "markdown",
   "metadata": {},
   "source": [
    "## Analyze Color Channels\n",
    "\n",
    "Let's visualize the different color channels to understand which might be most effective for extracting the number."
   ]
  },
  {
   "cell_type": "code",
   "execution_count": null,
   "metadata": {},
   "source": [
    "# Visualize RGB channels\n",
    "fig, _, _, _ = visualize_color_channels(image, 'rgb')\n",
    "plt.show()\n",
    "\n",
    "# Visualize Lab channels\n",
    "fig, _, _, _ = visualize_color_channels(image, 'lab')\n",
    "plt.show()\n",
    "\n",
    "# Visualize YCrCb channels\n",
    "fig, _, _, _ = visualize_color_channels(image, 'ycrcb')\n",
    "plt.show()\n",
    "\n",
    "# Visualize HSV channels\n",
    "fig, _, _, _ = visualize_color_channels(image, 'hsv')\n",
    "plt.show()"
   ]
  },
  {
   "cell_type": "markdown",
   "metadata": {},
   "source": [
    "## Get Color Space Recommendations\n",
    "\n",
    "Let's use our recommendation system to identify the best color space and channel for this image."
   ]
  },
  {
   "cell_type": "code",
   "execution_count": null,
   "metadata": {},
   "source": [
    "# Get recommendations\n",
    "recommendations = recommend_color_space(image)\n",
    "\n",
    "# Display recommendations\n",
    "print(\"Recommended color spaces and channels for this image:\")\n",
    "print(\"------------------------------------------------------\")\n",
    "for i, rec in enumerate(recommendations):\n",
    "    print(f\"Recommendation {i+1}:\")\n",
    "    print(f\"  Color space: {rec['color_space'].upper()}\")\n",
    "    print(f\"  Channel: {rec['channel']}\")\n",
    "    print(f\"  Explanation: {rec['explanation']}\")\n",
    "    print(\"\")"
   ]
  },
  {
   "cell_type": "markdown",
   "metadata": {},
   "source": [
    "## Process with Recommended Color Space\n",
    "\n",
    "Now, let's use the top recommended color space to extract the number."
   ]
  },
  {
   "cell_type": "code",
   "execution_count": null,
   "metadata": {},
   "source": [
    "# Get the top recommendation\n",
    "top_rec = recommendations[0]\n",
    "color_space = top_rec['color_space']\n",
    "channel = top_rec['channel']\n",
    "k = 2  # Usually 2 clusters works well\n",
    "invert = False\n",
    "\n",
    "print(f\"Using {color_space.upper()} color space, channel {channel}, k={k}\")\n",
    "\n",
    "# Preprocess image\n",
    "image_rgb, features, _ = preprocess_image(image_path, color_space, channel)\n",
    "\n",
    "# Apply K-means clustering\n",
    "kmeans = KMeansClustering(k=k, max_iterations=100)\n",
    "kmeans.fit(features)\n",
    "\n",
    "# Segment image\n",
    "labels, segmented_image = segment_image(kmeans, features, image_rgb.shape, channel)\n",
    "\n",
    "# Extract number\n",
    "number_mask = extract_number(labels, k, invert)\n",
    "\n",
    "# Display results\n",
    "title = f\"{color_space.upper()} color space, channel {channel}, k={k}\"\n",
    "plot_results(image_rgb, segmented_image, number_mask, title)\n",
    "plt.show()"
   ]
  },
  {
   "cell_type": "markdown",
   "metadata": {},
   "source": [
    "## Enhance Number Visibility\n",
    "\n",
    "Let's enhance the visibility of the extracted number using contour detection."
   ]
  },
  {
   "cell_type": "code",
   "execution_count": null,
   "metadata": {},
   "source": [
    "# Enhance number visibility\n",
    "enhanced_number = enhance_number_visibility(number_mask)\n",
    "\n",
    "# Display the enhanced number\n",
    "plt.figure(figsize=(10, 5))\n",
    "\n",
    "plt.subplot(1, 2, 1)\n",
    "plt.imshow(image_rgb)\n",
    "plt.title(\"Original Image\")\n",
    "plt.axis(\"off\")\n",
    "\n",
    "plt.subplot(1, 2, 2)\n",
    "plt.imshow(enhanced_number)\n",
    "plt.title(\"Enhanced Number Visualization\")\n",
    "plt.axis(\"off\")\n",
    "\n",
    "plt.tight_layout()\n",
    "plt.show()"
   ]
  },
  {
   "cell_type": "markdown",
   "metadata": {},
   "source": [
    "## Try Different Color Spaces\n",
    "\n",
    "Let's compare the results using different color spaces."
   ]
  },
  {
   "cell_type": "code",
   "execution_count": null,
   "metadata": {},
   "source": [
    "# Define parameter sets to try\n",
    "parameter_sets = [\n",
    "    ('lab', 1, 2, False, 'Lab (a channel)'),\n",
    "    ('ycrcb', 1, 2, False, 'YCrCb (Cr channel)'),\n",
    "    ('hsv', 0, 3, False, 'HSV (Hue channel)'),\n",
    "    ('rgb', 0, 2, False, 'RGB (Red channel)'),\n",
    "    ('rgb', 1, 2, True, 'RGB (Green channel)'),\n",
    "]\n",
    "\n",
    "# Process with each parameter set\n",
    "for color_space, channel, k, invert, title in parameter_sets:\n",
    "    print(f\"Processing with {title}...\")\n",
    "    \n",
    "    # Preprocess image\n",
    "    image_rgb, features, _ = preprocess_image(image_path, color_space, channel)\n",
    "    \n",
    "    # Apply K-means clustering\n",
    "    kmeans = KMeansClustering(k=k, max_iterations=100)\n",
    "    kmeans.fit(features)\n",
    "    \n",
    "    # Segment image\n",
    "    labels, segmented_image = segment_image(kmeans, features, image_rgb.shape, channel)\n",
    "    \n",
    "    # Extract number\n",
    "    number_mask = extract_number(labels, k, invert)\n",
    "    \n",
    "    # Display results\n",
    "    plt.figure(figsize=(15, 5))\n",
    "    \n",
    "    plt.subplot(1, 3, 1)\n",
    "    plt.imshow(image_rgb)\n",
    "    plt.title(\"Original Image\")\n",
    "    plt.axis(\"off\")\n",
    "    \n",
    "    plt.subplot(1, 3, 2)\n",
    "    if len(segmented_image.shape) == 2:\n",
    "        plt.imshow(segmented_image, cmap=\"gray\")\n",
    "    else:\n",
    "        plt.imshow(segmented_image)\n",
    "    plt.title(f\"Segmented Image ({title})\")\n",
    "    plt.axis(\"off\")\n",
    "    \n",
    "    plt.subplot(1, 3, 3)\n",
    "    plt.imshow(number_mask, cmap=\"gray\")\n",
    "    plt.title(\"Extracted Number\")\n",
    "    plt.axis(\"off\")\n",
    "    \n",
    "    plt.tight_layout()\n",
    "    plt.show()"
   ]
  },
  {
   "cell_type": "markdown",
   "metadata": {},
   "source": [
    "## K-means Implementation Analysis\n",
    "\n",
    "Let's analyze our K-means implementation by visualizing how the centroids change during the clustering process."
   ]
  },
  {
   "cell_type": "code",
   "execution_count": null,
   "metadata": {},
   "source": [
    "# Define a K-means implementation that records centroid history\n",
    "class KMeansWithHistory(KMeansClustering):\n",
    "    def __init__(self, k=3, max_iterations=100, random_state=42):\n",
    "        super().__init__(k, max_iterations, random_state)\n",
    "        self.centroid_history = []\n",
    "    \n",
    "    def fit(self, X):\n",
    "        # Initialize centroids\n",
    "        self.centroids = self.initialize_centroids(X)\n",
    "        self.centroid_history = [self.centroids.copy()]\n",
    "        \n",
    "        # Run K-means algorithm\n",
    "        for _ in range(self.max_iterations):\n",
    "            # Compute distances\n",
    "            distances = self.compute_distance(X, self.centroids)\n",
    "            \n",
    "            # Assign clusters\n",
    "            labels = self.assign_clusters(distances)\n",
    "            \n",
    "            # Store old centroids for convergence check\n",
    "            old_centroids = self.centroids.copy()\n",
    "            \n",
    "            # Update centroids\n",
    "            self.centroids = self.update_centroids(X, labels)\n",
    "            self.centroid_history.append(self.centroids.copy())\n",
    "            \n",
    "            # Check for convergence\n",
    "            if self.has_converged(old_centroids, self.centroids):\n",
    "                break\n",
    "                \n",
    "        return self\n",
    "\n",
    "# Let's use the Lab color space, a-channel (which usually works well)\n",
    "color_space = 'lab'\n",
    "channel = 1\n",
    "k = 2\n",
    "\n",
    "# Preprocess image\n",
    "image_rgb, features, _ = preprocess_image(image_path, color_space, channel)\n",
    "\n",
    "# Apply K-means clustering with history tracking\n",
    "kmeans = KMeansWithHistory(k=k, max_iterations=100)\n",
    "kmeans.fit(features)\n",
    "\n",
    "# Plot how centroids change over iterations\n",
    "plt.figure(figsize=(10, 6))\n",
    "colors = ['r', 'g', 'b', 'c', 'm']\n",
    "\n",
    "for i in range(k):\n",
    "    centroids_i = [ch[i][0] for ch in kmeans.centroid_history]\n",
    "    plt.plot(range(len(centroids_i)), centroids_i, f'{colors[i%len(colors)]}-o', label=f'Centroid {i+1}')\n",
    "\n",
    "plt.xlabel('Iteration')\n",
    "plt.ylabel('Centroid Value')\n",
    "plt.title(f'Centroid Convergence (Lab color space, a-channel)')\n",
    "plt.legend()\n",
    "plt.grid(True)\n",
    "plt.show()\n",
    "\n",
    "# Let's see after how many iterations the algorithm converged\n",
    "print(f\"K-means algorithm converged after {len(kmeans.centroid_history) - 1} iterations\")"
   ]
  },
  {
   "cell_type": "markdown",
   "metadata": {},
   "source": [
    "## Conclusion\n",
    "\n",
    "In this notebook, we've demonstrated how to extract numbers from Ishihara color blindness test images using K-means clustering. We've seen that:\n",
    "\n",
    "1. Different color spaces and channels have varying effectiveness for different Ishihara tests\n",
    "2. The Lab color space's a-channel (red-green component) is often the most effective\n",
    "3. Using just 2 clusters is usually sufficient for clear number extraction\n",
    "4. Our K-means implementation converges efficiently to provide good segmentation\n",
    "\n",
    "This approach can be applied to a wide variety of Ishihara test images to extract the hidden numbers."
   ]
  }
 ],
 "metadata": {
  "kernelspec": {
   "display_name": "Python 3",
   "language": "python",
   "name": "python3"
  },
  "language_info": {
   "codemirror_mode": {
    "name": "ipython",
    "version": 3
   },
   "file_extension": ".py",
   "mimetype": "text/x-python",
   "name": "python",
   "nbconvert_exporter": "python",
   "pygments_lexer": "ipython3",
   "version": "3.8.10"
  }
 },
 "nbformat": 4,
 "nbformat_minor": 4
}
